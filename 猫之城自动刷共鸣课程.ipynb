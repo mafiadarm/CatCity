{
 "cells": [
  {
   "cell_type": "code",
   "execution_count": 1,
   "metadata": {},
   "outputs": [],
   "source": [
    "import time\n",
    "from io import BytesIO\n",
    "from PIL import ImageGrab, Image\n",
    "\n",
    "import pyautogui as pt\n",
    "import ddddocr"
   ]
  },
  {
   "cell_type": "code",
   "execution_count": 2,
   "metadata": {},
   "outputs": [
    {
     "name": "stdout",
     "output_type": "stream",
     "text": [
      "欢迎使用ddddocr，本项目专注带动行业内卷，个人博客:wenanzhe.com\n",
      "训练数据支持来源于:http://146.56.204.113:19199/preview\n",
      "爬虫框架feapder可快速一键接入，快速开启爬虫之旅：https://github.com/Boris-code/feapder\n"
     ]
    }
   ],
   "source": [
    "class ImageOrc:\n",
    "    '''\n",
    "        从PIL截图的数据转为识别的文字\n",
    "        image是PIL工具直接截取的数据，如果是已有图片，需要先打开\n",
    "    '''\n",
    "    def __init__(self):       \n",
    "        self.ocr = ddddocr.DdddOcr()  # 识别实列\n",
    "    \n",
    "    def trans_orc(self, image):\n",
    "        img_byte = BytesIO()  # IO实列 每次都要重新开一个实例\n",
    "        image.save(img_byte, format='JPEG') # 把图片存到内存 format: PNG or JPEG\n",
    "        binary_content = img_byte.getvalue()  # 把内存里面的im对象转为二进制流\n",
    "        try:\n",
    "            res = self.ocr.classification(binary_content)  # 转成文字\n",
    "            return res\n",
    "        except:\n",
    "            print('转换文字失败')\n",
    "\n",
    "orc = ImageOrc()"
   ]
  },
  {
   "cell_type": "code",
   "execution_count": 3,
   "metadata": {},
   "outputs": [],
   "source": [
    "tiaozhanguanqia = (765, 479, 855, 508)\n",
    "gaojietiaozhan = (811, 153, 926, 192)\n",
    "xuanze = (850, 525, 891, 547)\n",
    "kaishizhandou = (841, 481, 925, 506)\n",
    "queren = (949, 548, 992, 573)\n",
    "tuichu = (932, 525, 982, 558)\n",
    "lingqujiangli = (657, 406, 739, 424)"
   ]
  },
  {
   "cell_type": "code",
   "execution_count": 6,
   "metadata": {},
   "outputs": [],
   "source": [
    "for _ in range(3):\n",
    "    while 1:\n",
    "        pt.click(572, 554)\n",
    "        im1 = ImageGrab.grab(bbox=(tiaozhanguanqia))\n",
    "        t1 = orc.trans_orc(im1)\n",
    "        if t1 == '挑战关卡':\n",
    "            break\n",
    "\n",
    "    flag = 0\n",
    "    while 1:\n",
    "        while 1:\n",
    "            pt.click(709, 484)\n",
    "            im2 = ImageGrab.grab(bbox=(gaojietiaozhan))\n",
    "            t2 = orc.trans_orc(im2)\n",
    "\n",
    "            if t2 == '高阶挑战':\n",
    "                break\n",
    "\n",
    "        while 1:\n",
    "            pt.click(855, 310)\n",
    "\n",
    "            im3 = ImageGrab.grab(bbox=(xuanze))\n",
    "            t3 = orc.trans_orc(im3)\n",
    "            if t3 == '选择':\n",
    "                break\n",
    "\n",
    "        while 1:\n",
    "            pt.click(870, 533)\n",
    "            time.sleep(1)\n",
    "            im4 = ImageGrab.grab(bbox=(kaishizhandou))\n",
    "            t4 = orc.trans_orc(im4)\n",
    "            if t4 == '开始战斗':\n",
    "                break\n",
    "\n",
    "        while 1:\n",
    "            pt.click(885, 504)\n",
    "            time.sleep(1)\n",
    "            im5 = ImageGrab.grab(bbox=(queren))\n",
    "            t5 = orc.trans_orc(im5)\n",
    "            if t5 == '确认':\n",
    "#                 time.sleep(1)\n",
    "#                 pt.click(990, 479)\n",
    "                time.sleep(1)\n",
    "                pt.click(990, 561)\n",
    "                break\n",
    "\n",
    "        while 1:\n",
    "            time.sleep(5)\n",
    "            im6 = ImageGrab.grab(bbox=(tuichu))\n",
    "            t6 = orc.trans_orc(im6)\n",
    "            if t6 == '退出':\n",
    "                break\n",
    "\n",
    "        while 1:\n",
    "            pt.click(943, 538)\n",
    "            time.sleep(3)\n",
    "\n",
    "            im8 = ImageGrab.grab(bbox=(lingqujiangli))\n",
    "            t8 = orc.trans_orc(im8)\n",
    "            if t8 == '领取课程奖励':\n",
    "                time.sleep(6)\n",
    "                pt.click(813, 414)\n",
    "                flag = 1\n",
    "                break    \n",
    "\n",
    "            im7 = ImageGrab.grab(bbox=(gaojietiaozhan))\n",
    "            t7 = orc.trans_orc(im7)\n",
    "            if t7 == '高阶挑战':\n",
    "                break\n",
    "        if flag == 1:\n",
    "            break"
   ]
  }
 ],
 "metadata": {
  "kernelspec": {
   "display_name": "Python 3",
   "language": "python",
   "name": "python3"
  },
  "language_info": {
   "codemirror_mode": {
    "name": "ipython",
    "version": 3
   },
   "file_extension": ".py",
   "mimetype": "text/x-python",
   "name": "python",
   "nbconvert_exporter": "python",
   "pygments_lexer": "ipython3",
   "version": "3.7.4"
  }
 },
 "nbformat": 4,
 "nbformat_minor": 4
}
