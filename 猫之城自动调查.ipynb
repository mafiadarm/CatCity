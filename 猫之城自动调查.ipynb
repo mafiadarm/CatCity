{
 "cells": [
  {
   "cell_type": "code",
   "execution_count": null,
   "metadata": {},
   "outputs": [],
   "source": [
    "import time\n",
    "from io import BytesIO\n",
    "from PIL import ImageGrab, Image\n",
    "\n",
    "import pyautogui as pt\n",
    "import ddddocr\n",
    "\n",
    "class ImageOrc:\n",
    "    '''\n",
    "        从PIL截图的数据转为识别的文字\n",
    "        image是PIL工具直接截取的数据，如果是已有图片，需要先打开\n",
    "    '''\n",
    "    def __init__(self):       \n",
    "        self.ocr = ddddocr.DdddOcr()  # 识别实列\n",
    "    \n",
    "    def trans_orc(self, image):\n",
    "        img_byte = BytesIO()  # IO实列 每次都要重新开一个实例\n",
    "        image.save(img_byte, format='JPEG') # 把图片存到内存 format: PNG or JPEG\n",
    "        binary_content = img_byte.getvalue()  # 把内存里面的im对象转为二进制流\n",
    "        try:\n",
    "            res = self.ocr.classification(binary_content)  # 转成文字\n",
    "            return res\n",
    "        except:\n",
    "            print('转换文字失败')\n",
    "\n",
    "orc = ImageOrc()"
   ]
  },
  {
   "cell_type": "code",
   "execution_count": 2,
   "metadata": {},
   "outputs": [],
   "source": [
    "def mission(pos):\n",
    "    while 1:\n",
    "        pt.click(pos)\n",
    "        im1 = ImageGrab.grab(bbox=(733,536,824,568))\n",
    "        t1 = orc.trans_orc(im1)\n",
    "        if t1 == '一键编队':\n",
    "            break\n",
    "    while 1:\n",
    "        pt.click(830, 553)  # 点击一键编队\n",
    "        pt.click(909, 553)  # 点击确认\n",
    "        im2 = ImageGrab.grab(bbox=(733,536,824,568))\n",
    "        t2 = orc.trans_orc(im2)\n",
    "        if t2 != '一键编队':\n",
    "            break    "
   ]
  },
  {
   "cell_type": "code",
   "execution_count": 6,
   "metadata": {},
   "outputs": [],
   "source": [
    "pt.moveTo(369,215)"
   ]
  },
  {
   "cell_type": "code",
   "execution_count": 14,
   "metadata": {},
   "outputs": [],
   "source": [
    "#进入调查\n",
    "#判断颜色,进去是否先收取\n",
    "get_all = 0\n",
    "if pt.pixel(157, 219) == (28, 192, 183):\n",
    "    get_all = 1\n",
    "\n",
    "while 1:\n",
    "    for _ in range(5): pt.click(157, 219)\n",
    "    im1 = ImageGrab.grab(bbox=(94,250,128,269))\n",
    "    t1 = orc.trans_orc(im1)\n",
    "    if t1 != '调查':\n",
    "        break\n",
    "\n",
    "time.sleep(1)\n",
    "#一键领取,则点击\n",
    "if get_all:\n",
    "    for _ in range(30): \n",
    "        pt.click(1001, 561)\n",
    "\n",
    "time.sleep(2)"
   ]
  },
  {
   "cell_type": "code",
   "execution_count": null,
   "metadata": {},
   "outputs": [],
   "source": [
    "#耀州区\n",
    "yaozhou = (pt.pixel(225,399) == (255, 0, 157))\n",
    "#中心区\n",
    "zhongxin = (pt.pixel(512,353) == (255, 0, 157))\n",
    "#南港区\n",
    "nangang = (pt.pixel(758,490) == (255, 0, 157))\n",
    "#昆士区\n",
    "kunshi = (pt.pixel(807,309) == (255, 0, 157))\n",
    "#旧城区\n",
    "jiucheng = (pt.pixel(683,175) == (255, 0, 157))\n",
    "#凛北区\n",
    "linbei = (pt.pixel(369,215) == (255, 0, 157))\n",
    "\n",
    "#耀州区\n",
    "if yaozhou:\n",
    "    mission((252, 367))\n",
    "#中心区\n",
    "if zhongxin:\n",
    "    mission((559, 318))\n",
    "#南港区\n",
    "if nangang:\n",
    "    mission((802, 457))\n",
    "#昆士区\n",
    "if kunshi:\n",
    "    mission((848, 275))\n",
    "#旧城区\n",
    "if jiucheng:\n",
    "    mission((727, 143))\n",
    "#凛北区\n",
    "if linbei:\n",
    "    mission((369,215))\n",
    "    \n",
    "#退出\n",
    "while 1:\n",
    "    pt.click(118, 67)\n",
    "    time.sleep(2)\n",
    "    im3 = ImageGrab.grab(bbox=(94,223,133,245))\n",
    "    t3 = orc.trans_orc(im3)\n",
    "    if t3 == '调查':\n",
    "        break"
   ]
  }
 ],
 "metadata": {
  "kernelspec": {
   "display_name": "Python 3",
   "language": "python",
   "name": "python3"
  },
  "language_info": {
   "codemirror_mode": {
    "name": "ipython",
    "version": 3
   },
   "file_extension": ".py",
   "mimetype": "text/x-python",
   "name": "python",
   "nbconvert_exporter": "python",
   "pygments_lexer": "ipython3",
   "version": "3.7.4"
  }
 },
 "nbformat": 4,
 "nbformat_minor": 4
}
