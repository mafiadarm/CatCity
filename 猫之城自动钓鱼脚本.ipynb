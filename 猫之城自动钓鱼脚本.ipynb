{
 "cells": [
  {
   "cell_type": "code",
   "execution_count": 1,
   "metadata": {},
   "outputs": [],
   "source": [
    "import time\n",
    "from io import BytesIO\n",
    "from PIL import ImageGrab, Image\n",
    "\n",
    "import pyautogui as pt\n",
    "import ddddocr"
   ]
  },
  {
   "cell_type": "code",
   "execution_count": 2,
   "metadata": {},
   "outputs": [
    {
     "name": "stdout",
     "output_type": "stream",
     "text": [
      "欢迎使用ddddocr，本项目专注带动行业内卷，个人博客:wenanzhe.com\n",
      "训练数据支持来源于:http://146.56.204.113:19199/preview\n",
      "爬虫框架feapder可快速一键接入，快速开启爬虫之旅：https://github.com/Boris-code/feapder\n"
     ]
    }
   ],
   "source": [
    "class ImageOrc:\n",
    "    '''\n",
    "        从PIL截图的数据转为识别的文字\n",
    "        image是PIL工具直接截取的数据，如果是已有图片，需要先打开\n",
    "    '''\n",
    "    def __init__(self):       \n",
    "        self.ocr = ddddocr.DdddOcr()  # 识别实列\n",
    "    \n",
    "    def trans_orc(self, image):\n",
    "        img_byte = BytesIO()  # IO实列 每次都要重新开一个实例\n",
    "        image.save(img_byte, format='JPEG') # 把图片存到内存 format: PNG or JPEG\n",
    "        binary_content = img_byte.getvalue()  # 把内存里面的im对象转为二进制流\n",
    "        try:\n",
    "            res = self.ocr.classification(binary_content)  # 转成文字\n",
    "            return res\n",
    "        except:\n",
    "            print('转换文字失败')\n",
    "            \n",
    "orc = ImageOrc()            "
   ]
  },
  {
   "cell_type": "code",
   "execution_count": 13,
   "metadata": {},
   "outputs": [],
   "source": [
    "def auto_add():\n",
    "    '''自动补给'''\n",
    "    _A = ImageGrab.grab(bbox=(1008, 197, 1039, 214))  # \n",
    "    _Acount = orc.trans_orc(_A)\n",
    "    _B = ImageGrab.grab(bbox=(1008, 271, 1039, 284))  # \n",
    "    _Bcount = orc.trans_orc(_B)\n",
    "    _C = ImageGrab.grab(bbox=(1036, 342, 1067, 358))  # \n",
    "    _Ccount = orc.trans_orc(_C)\n",
    "    _D = ImageGrab.grab(bbox=(1036, 414, 1067, 430))  # \n",
    "    _Dcount = orc.trans_orc(_D)\n",
    "    _E = ImageGrab.grab(bbox=(955, 564, 992, 586))  # 存到100看看位置\n",
    "    _Ecount = orc.trans_orc(_E)\n",
    "    \n",
    "    if _Ecount == '0' or  _Ecount == 'O':\n",
    "        return 0\n",
    "    \n",
    "    if (_Acount, _Bcount, _Ccount, _Dcount).count('0') or (_Acount, _Bcount, _Ccount, _Dcount).count('O'):\n",
    "        pt.doubleClick(1033, 182)\n",
    "        time.sleep(2)\n",
    "    \n",
    "        pt.click(806, 539)  # 维修鱼竿\n",
    "        time.sleep(0.5)\n",
    "        pt.click(1028, 259)  # 选中卷轮\n",
    "        time.sleep(0.5)\n",
    "        pt.click(806, 539)  # 维修卷轮\n",
    "        time.sleep(0.5)\n",
    "        \n",
    "        if _Ccount == '0' or _Ccount == 'O':\n",
    "            pt.click(1030, 357)\n",
    "            time.sleep(0.5)\n",
    "            pt.click(806, 539)  # 点击购买\n",
    "            time.sleep(1)\n",
    "            for _ in range(4): pt.click(869, 400)\n",
    "            pt.click(877, 460)  # 点击金额购买\n",
    "            time.sleep(0.5)\n",
    "            pt.click(801, 422)\n",
    "        \n",
    "        time.sleep(0.5)\n",
    "        if _Dcount == '0'or _Dcount == 'O':\n",
    "            pt.click(1030, 450)\n",
    "            time.sleep(0.5)\n",
    "            pt.click(806, 539)  # 点击购买\n",
    "            time.sleep(1)\n",
    "            for _ in range(4): pt.click(869, 400)\n",
    "            pt.click(877, 460)  # 点击金额购买\n",
    "            time.sleep(0.5)\n",
    "            pt.click(801, 422)\n",
    "\n",
    "        time.sleep(0.5)\n",
    "        while 1:\n",
    "            pt.click(116, 63)\n",
    "            time.sleep(2)\n",
    "            im4 = ImageGrab.grab(bbox=(81, 238, 152, 260))  # \n",
    "            t4 = orc.trans_orc(im4)\n",
    "            if t4 == '图鉴':\n",
    "                break\n",
    "\n",
    "    return 1"
   ]
  },
  {
   "cell_type": "code",
   "execution_count": 4,
   "metadata": {},
   "outputs": [],
   "source": [
    "click_pos = (990, 502)\n",
    "jizhong = (463, 85, 720 ,118)  # 击中蓝圈可完美抛竿\n",
    "jixu = (536, 542, 639, 567)  # 点击屏幕继续"
   ]
  },
  {
   "cell_type": "code",
   "execution_count": 14,
   "metadata": {
    "scrolled": true
   },
   "outputs": [],
   "source": [
    "while 1:\n",
    "    # 开始\n",
    "    if not auto_add(): break\n",
    "    pt.click(click_pos)\n",
    "    time.sleep(1.45)\n",
    "    pt.press('space')\n",
    "\n",
    "    while 1:\n",
    "        pt.keyDown('space')\n",
    "        time.sleep(0.16)  # 纯循环0.07\n",
    "        pt.keyUp('space')\n",
    "\n",
    "        im3 = ImageGrab.grab(bbox=(530, 537, 646, 571))  # \n",
    "        t3 = orc.trans_orc(im3)\n",
    "\n",
    "        if t3 == '点击屏幕继续':\n",
    "            break\n",
    "            \n",
    "    time.sleep(1)\n",
    "    pt.press('space')  # 确定鱼信息\n",
    "\n",
    "    time.sleep(3)\n",
    "    pt.press('space')  # 确定出售金额\n",
    "   \n",
    "    while 1:\n",
    "        pt.click(611, 547)\n",
    "        im4 = ImageGrab.grab(bbox=(81, 238, 152, 260))  # \n",
    "        t4 = orc.trans_orc(im4)\n",
    "        if t4 == '图鉴':\n",
    "            break\n",
    "\n",
    "        im2 = ImageGrab.grab(bbox=(536, 482, 648, 515))  # \n",
    "        t2 = orc.trans_orc(im2)\n",
    "\n",
    "        if t2 == '丢回去':\n",
    "            pt.click(600, 499)"
   ]
  }
 ],
 "metadata": {
  "kernelspec": {
   "display_name": "Python 3",
   "language": "python",
   "name": "python3"
  },
  "language_info": {
   "codemirror_mode": {
    "name": "ipython",
    "version": 3
   },
   "file_extension": ".py",
   "mimetype": "text/x-python",
   "name": "python",
   "nbconvert_exporter": "python",
   "pygments_lexer": "ipython3",
   "version": "3.7.4"
  }
 },
 "nbformat": 4,
 "nbformat_minor": 4
}
